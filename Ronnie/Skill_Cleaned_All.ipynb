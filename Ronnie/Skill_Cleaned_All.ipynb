{
 "cells": [
  {
   "cell_type": "markdown",
   "id": "488a0e05",
   "metadata": {},
   "source": [
    "# Skill Position Players NFL 2019, 2020, 2021 Data Munging and Transformation by Skill Position"
   ]
  },
  {
   "cell_type": "code",
   "execution_count": 1,
   "id": "7cfcd54f",
   "metadata": {},
   "outputs": [
    {
     "ename": "FileNotFoundError",
     "evalue": "[Errno 2] No such file or directory: 'data/NFL_1.csv'",
     "output_type": "error",
     "traceback": [
      "\u001b[1;31m---------------------------------------------------------------------------\u001b[0m",
      "\u001b[1;31mFileNotFoundError\u001b[0m                         Traceback (most recent call last)",
      "\u001b[1;32m~\\AppData\\Local\\Temp\\ipykernel_15876\\4211589135.py\u001b[0m in \u001b[0;36m<module>\u001b[1;34m\u001b[0m\n\u001b[0;32m      4\u001b[0m \u001b[1;31m# merging two csv files\u001b[0m\u001b[1;33m\u001b[0m\u001b[1;33m\u001b[0m\u001b[1;33m\u001b[0m\u001b[0m\n\u001b[0;32m      5\u001b[0m df = pd.concat(\n\u001b[1;32m----> 6\u001b[1;33m     map(pd.read_csv, ['data/NFL_1.csv', 'data/NFL_2.csv', 'data/NFL_3.csv']), ignore_index=True)\n\u001b[0m",
      "\u001b[1;32m~\\anaconda3\\envs\\PythonData\\lib\\site-packages\\pandas\\util\\_decorators.py\u001b[0m in \u001b[0;36mwrapper\u001b[1;34m(*args, **kwargs)\u001b[0m\n\u001b[0;32m    309\u001b[0m                     \u001b[0mstacklevel\u001b[0m\u001b[1;33m=\u001b[0m\u001b[0mstacklevel\u001b[0m\u001b[1;33m,\u001b[0m\u001b[1;33m\u001b[0m\u001b[1;33m\u001b[0m\u001b[0m\n\u001b[0;32m    310\u001b[0m                 )\n\u001b[1;32m--> 311\u001b[1;33m             \u001b[1;32mreturn\u001b[0m \u001b[0mfunc\u001b[0m\u001b[1;33m(\u001b[0m\u001b[1;33m*\u001b[0m\u001b[0margs\u001b[0m\u001b[1;33m,\u001b[0m \u001b[1;33m**\u001b[0m\u001b[0mkwargs\u001b[0m\u001b[1;33m)\u001b[0m\u001b[1;33m\u001b[0m\u001b[1;33m\u001b[0m\u001b[0m\n\u001b[0m\u001b[0;32m    312\u001b[0m \u001b[1;33m\u001b[0m\u001b[0m\n\u001b[0;32m    313\u001b[0m         \u001b[1;32mreturn\u001b[0m \u001b[0mwrapper\u001b[0m\u001b[1;33m\u001b[0m\u001b[1;33m\u001b[0m\u001b[0m\n",
      "\u001b[1;32m~\\anaconda3\\envs\\PythonData\\lib\\site-packages\\pandas\\core\\reshape\\concat.py\u001b[0m in \u001b[0;36mconcat\u001b[1;34m(objs, axis, join, ignore_index, keys, levels, names, verify_integrity, sort, copy)\u001b[0m\n\u001b[0;32m    302\u001b[0m         \u001b[0mverify_integrity\u001b[0m\u001b[1;33m=\u001b[0m\u001b[0mverify_integrity\u001b[0m\u001b[1;33m,\u001b[0m\u001b[1;33m\u001b[0m\u001b[1;33m\u001b[0m\u001b[0m\n\u001b[0;32m    303\u001b[0m         \u001b[0mcopy\u001b[0m\u001b[1;33m=\u001b[0m\u001b[0mcopy\u001b[0m\u001b[1;33m,\u001b[0m\u001b[1;33m\u001b[0m\u001b[1;33m\u001b[0m\u001b[0m\n\u001b[1;32m--> 304\u001b[1;33m         \u001b[0msort\u001b[0m\u001b[1;33m=\u001b[0m\u001b[0msort\u001b[0m\u001b[1;33m,\u001b[0m\u001b[1;33m\u001b[0m\u001b[1;33m\u001b[0m\u001b[0m\n\u001b[0m\u001b[0;32m    305\u001b[0m     )\n\u001b[0;32m    306\u001b[0m \u001b[1;33m\u001b[0m\u001b[0m\n",
      "\u001b[1;32m~\\anaconda3\\envs\\PythonData\\lib\\site-packages\\pandas\\core\\reshape\\concat.py\u001b[0m in \u001b[0;36m__init__\u001b[1;34m(self, objs, axis, join, keys, levels, names, ignore_index, verify_integrity, copy, sort)\u001b[0m\n\u001b[0;32m    346\u001b[0m             \u001b[0mobjs\u001b[0m \u001b[1;33m=\u001b[0m \u001b[1;33m[\u001b[0m\u001b[0mobjs\u001b[0m\u001b[1;33m[\u001b[0m\u001b[0mk\u001b[0m\u001b[1;33m]\u001b[0m \u001b[1;32mfor\u001b[0m \u001b[0mk\u001b[0m \u001b[1;32min\u001b[0m \u001b[0mkeys\u001b[0m\u001b[1;33m]\u001b[0m\u001b[1;33m\u001b[0m\u001b[1;33m\u001b[0m\u001b[0m\n\u001b[0;32m    347\u001b[0m         \u001b[1;32melse\u001b[0m\u001b[1;33m:\u001b[0m\u001b[1;33m\u001b[0m\u001b[1;33m\u001b[0m\u001b[0m\n\u001b[1;32m--> 348\u001b[1;33m             \u001b[0mobjs\u001b[0m \u001b[1;33m=\u001b[0m \u001b[0mlist\u001b[0m\u001b[1;33m(\u001b[0m\u001b[0mobjs\u001b[0m\u001b[1;33m)\u001b[0m\u001b[1;33m\u001b[0m\u001b[1;33m\u001b[0m\u001b[0m\n\u001b[0m\u001b[0;32m    349\u001b[0m \u001b[1;33m\u001b[0m\u001b[0m\n\u001b[0;32m    350\u001b[0m         \u001b[1;32mif\u001b[0m \u001b[0mlen\u001b[0m\u001b[1;33m(\u001b[0m\u001b[0mobjs\u001b[0m\u001b[1;33m)\u001b[0m \u001b[1;33m==\u001b[0m \u001b[1;36m0\u001b[0m\u001b[1;33m:\u001b[0m\u001b[1;33m\u001b[0m\u001b[1;33m\u001b[0m\u001b[0m\n",
      "\u001b[1;32m~\\anaconda3\\envs\\PythonData\\lib\\site-packages\\pandas\\util\\_decorators.py\u001b[0m in \u001b[0;36mwrapper\u001b[1;34m(*args, **kwargs)\u001b[0m\n\u001b[0;32m    309\u001b[0m                     \u001b[0mstacklevel\u001b[0m\u001b[1;33m=\u001b[0m\u001b[0mstacklevel\u001b[0m\u001b[1;33m,\u001b[0m\u001b[1;33m\u001b[0m\u001b[1;33m\u001b[0m\u001b[0m\n\u001b[0;32m    310\u001b[0m                 )\n\u001b[1;32m--> 311\u001b[1;33m             \u001b[1;32mreturn\u001b[0m \u001b[0mfunc\u001b[0m\u001b[1;33m(\u001b[0m\u001b[1;33m*\u001b[0m\u001b[0margs\u001b[0m\u001b[1;33m,\u001b[0m \u001b[1;33m**\u001b[0m\u001b[0mkwargs\u001b[0m\u001b[1;33m)\u001b[0m\u001b[1;33m\u001b[0m\u001b[1;33m\u001b[0m\u001b[0m\n\u001b[0m\u001b[0;32m    312\u001b[0m \u001b[1;33m\u001b[0m\u001b[0m\n\u001b[0;32m    313\u001b[0m         \u001b[1;32mreturn\u001b[0m \u001b[0mwrapper\u001b[0m\u001b[1;33m\u001b[0m\u001b[1;33m\u001b[0m\u001b[0m\n",
      "\u001b[1;32m~\\anaconda3\\envs\\PythonData\\lib\\site-packages\\pandas\\io\\parsers\\readers.py\u001b[0m in \u001b[0;36mread_csv\u001b[1;34m(filepath_or_buffer, sep, delimiter, header, names, index_col, usecols, squeeze, prefix, mangle_dupe_cols, dtype, engine, converters, true_values, false_values, skipinitialspace, skiprows, skipfooter, nrows, na_values, keep_default_na, na_filter, verbose, skip_blank_lines, parse_dates, infer_datetime_format, keep_date_col, date_parser, dayfirst, cache_dates, iterator, chunksize, compression, thousands, decimal, lineterminator, quotechar, quoting, doublequote, escapechar, comment, encoding, encoding_errors, dialect, error_bad_lines, warn_bad_lines, on_bad_lines, delim_whitespace, low_memory, memory_map, float_precision, storage_options)\u001b[0m\n\u001b[0;32m    584\u001b[0m     \u001b[0mkwds\u001b[0m\u001b[1;33m.\u001b[0m\u001b[0mupdate\u001b[0m\u001b[1;33m(\u001b[0m\u001b[0mkwds_defaults\u001b[0m\u001b[1;33m)\u001b[0m\u001b[1;33m\u001b[0m\u001b[1;33m\u001b[0m\u001b[0m\n\u001b[0;32m    585\u001b[0m \u001b[1;33m\u001b[0m\u001b[0m\n\u001b[1;32m--> 586\u001b[1;33m     \u001b[1;32mreturn\u001b[0m \u001b[0m_read\u001b[0m\u001b[1;33m(\u001b[0m\u001b[0mfilepath_or_buffer\u001b[0m\u001b[1;33m,\u001b[0m \u001b[0mkwds\u001b[0m\u001b[1;33m)\u001b[0m\u001b[1;33m\u001b[0m\u001b[1;33m\u001b[0m\u001b[0m\n\u001b[0m\u001b[0;32m    587\u001b[0m \u001b[1;33m\u001b[0m\u001b[0m\n\u001b[0;32m    588\u001b[0m \u001b[1;33m\u001b[0m\u001b[0m\n",
      "\u001b[1;32m~\\anaconda3\\envs\\PythonData\\lib\\site-packages\\pandas\\io\\parsers\\readers.py\u001b[0m in \u001b[0;36m_read\u001b[1;34m(filepath_or_buffer, kwds)\u001b[0m\n\u001b[0;32m    480\u001b[0m \u001b[1;33m\u001b[0m\u001b[0m\n\u001b[0;32m    481\u001b[0m     \u001b[1;31m# Create the parser.\u001b[0m\u001b[1;33m\u001b[0m\u001b[1;33m\u001b[0m\u001b[1;33m\u001b[0m\u001b[0m\n\u001b[1;32m--> 482\u001b[1;33m     \u001b[0mparser\u001b[0m \u001b[1;33m=\u001b[0m \u001b[0mTextFileReader\u001b[0m\u001b[1;33m(\u001b[0m\u001b[0mfilepath_or_buffer\u001b[0m\u001b[1;33m,\u001b[0m \u001b[1;33m**\u001b[0m\u001b[0mkwds\u001b[0m\u001b[1;33m)\u001b[0m\u001b[1;33m\u001b[0m\u001b[1;33m\u001b[0m\u001b[0m\n\u001b[0m\u001b[0;32m    483\u001b[0m \u001b[1;33m\u001b[0m\u001b[0m\n\u001b[0;32m    484\u001b[0m     \u001b[1;32mif\u001b[0m \u001b[0mchunksize\u001b[0m \u001b[1;32mor\u001b[0m \u001b[0miterator\u001b[0m\u001b[1;33m:\u001b[0m\u001b[1;33m\u001b[0m\u001b[1;33m\u001b[0m\u001b[0m\n",
      "\u001b[1;32m~\\anaconda3\\envs\\PythonData\\lib\\site-packages\\pandas\\io\\parsers\\readers.py\u001b[0m in \u001b[0;36m__init__\u001b[1;34m(self, f, engine, **kwds)\u001b[0m\n\u001b[0;32m    809\u001b[0m             \u001b[0mself\u001b[0m\u001b[1;33m.\u001b[0m\u001b[0moptions\u001b[0m\u001b[1;33m[\u001b[0m\u001b[1;34m\"has_index_names\"\u001b[0m\u001b[1;33m]\u001b[0m \u001b[1;33m=\u001b[0m \u001b[0mkwds\u001b[0m\u001b[1;33m[\u001b[0m\u001b[1;34m\"has_index_names\"\u001b[0m\u001b[1;33m]\u001b[0m\u001b[1;33m\u001b[0m\u001b[1;33m\u001b[0m\u001b[0m\n\u001b[0;32m    810\u001b[0m \u001b[1;33m\u001b[0m\u001b[0m\n\u001b[1;32m--> 811\u001b[1;33m         \u001b[0mself\u001b[0m\u001b[1;33m.\u001b[0m\u001b[0m_engine\u001b[0m \u001b[1;33m=\u001b[0m \u001b[0mself\u001b[0m\u001b[1;33m.\u001b[0m\u001b[0m_make_engine\u001b[0m\u001b[1;33m(\u001b[0m\u001b[0mself\u001b[0m\u001b[1;33m.\u001b[0m\u001b[0mengine\u001b[0m\u001b[1;33m)\u001b[0m\u001b[1;33m\u001b[0m\u001b[1;33m\u001b[0m\u001b[0m\n\u001b[0m\u001b[0;32m    812\u001b[0m \u001b[1;33m\u001b[0m\u001b[0m\n\u001b[0;32m    813\u001b[0m     \u001b[1;32mdef\u001b[0m \u001b[0mclose\u001b[0m\u001b[1;33m(\u001b[0m\u001b[0mself\u001b[0m\u001b[1;33m)\u001b[0m\u001b[1;33m:\u001b[0m\u001b[1;33m\u001b[0m\u001b[1;33m\u001b[0m\u001b[0m\n",
      "\u001b[1;32m~\\anaconda3\\envs\\PythonData\\lib\\site-packages\\pandas\\io\\parsers\\readers.py\u001b[0m in \u001b[0;36m_make_engine\u001b[1;34m(self, engine)\u001b[0m\n\u001b[0;32m   1038\u001b[0m             )\n\u001b[0;32m   1039\u001b[0m         \u001b[1;31m# error: Too many arguments for \"ParserBase\"\u001b[0m\u001b[1;33m\u001b[0m\u001b[1;33m\u001b[0m\u001b[1;33m\u001b[0m\u001b[0m\n\u001b[1;32m-> 1040\u001b[1;33m         \u001b[1;32mreturn\u001b[0m \u001b[0mmapping\u001b[0m\u001b[1;33m[\u001b[0m\u001b[0mengine\u001b[0m\u001b[1;33m]\u001b[0m\u001b[1;33m(\u001b[0m\u001b[0mself\u001b[0m\u001b[1;33m.\u001b[0m\u001b[0mf\u001b[0m\u001b[1;33m,\u001b[0m \u001b[1;33m**\u001b[0m\u001b[0mself\u001b[0m\u001b[1;33m.\u001b[0m\u001b[0moptions\u001b[0m\u001b[1;33m)\u001b[0m  \u001b[1;31m# type: ignore[call-arg]\u001b[0m\u001b[1;33m\u001b[0m\u001b[1;33m\u001b[0m\u001b[0m\n\u001b[0m\u001b[0;32m   1041\u001b[0m \u001b[1;33m\u001b[0m\u001b[0m\n\u001b[0;32m   1042\u001b[0m     \u001b[1;32mdef\u001b[0m \u001b[0m_failover_to_python\u001b[0m\u001b[1;33m(\u001b[0m\u001b[0mself\u001b[0m\u001b[1;33m)\u001b[0m\u001b[1;33m:\u001b[0m\u001b[1;33m\u001b[0m\u001b[1;33m\u001b[0m\u001b[0m\n",
      "\u001b[1;32m~\\anaconda3\\envs\\PythonData\\lib\\site-packages\\pandas\\io\\parsers\\c_parser_wrapper.py\u001b[0m in \u001b[0;36m__init__\u001b[1;34m(self, src, **kwds)\u001b[0m\n\u001b[0;32m     49\u001b[0m \u001b[1;33m\u001b[0m\u001b[0m\n\u001b[0;32m     50\u001b[0m         \u001b[1;31m# open handles\u001b[0m\u001b[1;33m\u001b[0m\u001b[1;33m\u001b[0m\u001b[1;33m\u001b[0m\u001b[0m\n\u001b[1;32m---> 51\u001b[1;33m         \u001b[0mself\u001b[0m\u001b[1;33m.\u001b[0m\u001b[0m_open_handles\u001b[0m\u001b[1;33m(\u001b[0m\u001b[0msrc\u001b[0m\u001b[1;33m,\u001b[0m \u001b[0mkwds\u001b[0m\u001b[1;33m)\u001b[0m\u001b[1;33m\u001b[0m\u001b[1;33m\u001b[0m\u001b[0m\n\u001b[0m\u001b[0;32m     52\u001b[0m         \u001b[1;32massert\u001b[0m \u001b[0mself\u001b[0m\u001b[1;33m.\u001b[0m\u001b[0mhandles\u001b[0m \u001b[1;32mis\u001b[0m \u001b[1;32mnot\u001b[0m \u001b[1;32mNone\u001b[0m\u001b[1;33m\u001b[0m\u001b[1;33m\u001b[0m\u001b[0m\n\u001b[0;32m     53\u001b[0m \u001b[1;33m\u001b[0m\u001b[0m\n",
      "\u001b[1;32m~\\anaconda3\\envs\\PythonData\\lib\\site-packages\\pandas\\io\\parsers\\base_parser.py\u001b[0m in \u001b[0;36m_open_handles\u001b[1;34m(self, src, kwds)\u001b[0m\n\u001b[0;32m    227\u001b[0m             \u001b[0mmemory_map\u001b[0m\u001b[1;33m=\u001b[0m\u001b[0mkwds\u001b[0m\u001b[1;33m.\u001b[0m\u001b[0mget\u001b[0m\u001b[1;33m(\u001b[0m\u001b[1;34m\"memory_map\"\u001b[0m\u001b[1;33m,\u001b[0m \u001b[1;32mFalse\u001b[0m\u001b[1;33m)\u001b[0m\u001b[1;33m,\u001b[0m\u001b[1;33m\u001b[0m\u001b[1;33m\u001b[0m\u001b[0m\n\u001b[0;32m    228\u001b[0m             \u001b[0mstorage_options\u001b[0m\u001b[1;33m=\u001b[0m\u001b[0mkwds\u001b[0m\u001b[1;33m.\u001b[0m\u001b[0mget\u001b[0m\u001b[1;33m(\u001b[0m\u001b[1;34m\"storage_options\"\u001b[0m\u001b[1;33m,\u001b[0m \u001b[1;32mNone\u001b[0m\u001b[1;33m)\u001b[0m\u001b[1;33m,\u001b[0m\u001b[1;33m\u001b[0m\u001b[1;33m\u001b[0m\u001b[0m\n\u001b[1;32m--> 229\u001b[1;33m             \u001b[0merrors\u001b[0m\u001b[1;33m=\u001b[0m\u001b[0mkwds\u001b[0m\u001b[1;33m.\u001b[0m\u001b[0mget\u001b[0m\u001b[1;33m(\u001b[0m\u001b[1;34m\"encoding_errors\"\u001b[0m\u001b[1;33m,\u001b[0m \u001b[1;34m\"strict\"\u001b[0m\u001b[1;33m)\u001b[0m\u001b[1;33m,\u001b[0m\u001b[1;33m\u001b[0m\u001b[1;33m\u001b[0m\u001b[0m\n\u001b[0m\u001b[0;32m    230\u001b[0m         )\n\u001b[0;32m    231\u001b[0m \u001b[1;33m\u001b[0m\u001b[0m\n",
      "\u001b[1;32m~\\anaconda3\\envs\\PythonData\\lib\\site-packages\\pandas\\io\\common.py\u001b[0m in \u001b[0;36mget_handle\u001b[1;34m(path_or_buf, mode, encoding, compression, memory_map, is_text, errors, storage_options)\u001b[0m\n\u001b[0;32m    705\u001b[0m                 \u001b[0mencoding\u001b[0m\u001b[1;33m=\u001b[0m\u001b[0mioargs\u001b[0m\u001b[1;33m.\u001b[0m\u001b[0mencoding\u001b[0m\u001b[1;33m,\u001b[0m\u001b[1;33m\u001b[0m\u001b[1;33m\u001b[0m\u001b[0m\n\u001b[0;32m    706\u001b[0m                 \u001b[0merrors\u001b[0m\u001b[1;33m=\u001b[0m\u001b[0merrors\u001b[0m\u001b[1;33m,\u001b[0m\u001b[1;33m\u001b[0m\u001b[1;33m\u001b[0m\u001b[0m\n\u001b[1;32m--> 707\u001b[1;33m                 \u001b[0mnewline\u001b[0m\u001b[1;33m=\u001b[0m\u001b[1;34m\"\"\u001b[0m\u001b[1;33m,\u001b[0m\u001b[1;33m\u001b[0m\u001b[1;33m\u001b[0m\u001b[0m\n\u001b[0m\u001b[0;32m    708\u001b[0m             )\n\u001b[0;32m    709\u001b[0m         \u001b[1;32melse\u001b[0m\u001b[1;33m:\u001b[0m\u001b[1;33m\u001b[0m\u001b[1;33m\u001b[0m\u001b[0m\n",
      "\u001b[1;31mFileNotFoundError\u001b[0m: [Errno 2] No such file or directory: 'data/NFL_1.csv'"
     ]
    }
   ],
   "source": [
    "# importing pandas\n",
    "import pandas as pd\n",
    "  \n",
    "# merging two csv files\n",
    "df = pd.concat(\n",
    "    map(pd.read_csv, ['data/NFL_1.csv', 'data/NFL_2.csv', 'data/NFL_3.csv']), ignore_index=True)\n"
   ]
  },
  {
   "cell_type": "code",
   "execution_count": null,
   "id": "8e18f608",
   "metadata": {},
   "outputs": [],
   "source": [
    "df.head(5)"
   ]
  },
  {
   "cell_type": "code",
   "execution_count": null,
   "id": "9c669d01",
   "metadata": {},
   "outputs": [],
   "source": [
    "# Shape is just an attribute that tells us the shape of our DataFrame in the format (rows, columns)\n",
    "print(df.shape) \n",
    "print('We have', df.shape[0], 'players we can analyze for the 2021 season')\n",
    "print('We have', df.shape[1], 'columns of data we can analyze for the 2021 season')"
   ]
  },
  {
   "cell_type": "code",
   "execution_count": null,
   "id": "367b78dd",
   "metadata": {},
   "outputs": [],
   "source": [
    "# Displaying columns\n",
    "df.columns"
   ]
  },
  {
   "cell_type": "code",
   "execution_count": null,
   "id": "ce9708c5",
   "metadata": {},
   "outputs": [],
   "source": [
    "# 2022 NFL RB Draft Order Data Frame \n",
    "main_df = df[['Player', 'Tm', 'Pos', 'Tgt', 'Rec', 'GS', 'ReceivingYds', 'RushingYds', 'RushingTD', 'RushingAtt', 'ReceivingTD', 'FantasyPoints', 'Year']]\n",
    "main_df.head(10)"
   ]
  },
  {
   "cell_type": "code",
   "execution_count": null,
   "id": "e9f84169",
   "metadata": {
    "scrolled": true
   },
   "outputs": [],
   "source": [
    "# Changing column names from  G to Games (Played) and AVG to (ADP) Average Draft Position and viewing\n",
    "main_df = main_df.rename(columns={'Tm':'Team', 'GS':'Games'})\n",
    "main_df.head(10)"
   ]
  },
  {
   "cell_type": "markdown",
   "id": "768517eb",
   "metadata": {},
   "source": [
    "# 2019, 2021, 2022 NFL Running Back Data"
   ]
  },
  {
   "cell_type": "code",
   "execution_count": null,
   "id": "6cab9613",
   "metadata": {},
   "outputs": [],
   "source": [
    "# Running Back Featured Columns with Usage Ranking and Total Yards From Scrimmage\n",
    "rb_df = main_df.loc[df['Pos'] == 'RB', ['Player', 'Team', 'Pos','Tgt', 'Rec','RushingAtt', 'RushingYds', 'RushingTD', 'ReceivingYds', 'ReceivingTD','FantasyPoints', 'Games',]]\n",
    "rb_df['Usage'] = ((df['Tgt'] + df['RushingAtt']) / main_df['Games'])\n",
    "rb_df['Touchdowns'] = df['RushingTD'] + df['ReceivingTD']\n",
    "rb_df['TotYdsScrm']= df['ReceivingYds']+ df['RushingYds']\n",
    "rb_df['FPTS/G']= df['FantasyPoints'] / main_df['Games']\n",
    "rb_df['.5_PPR Points']= ((df['Rec']/ 2) + df['RushingYds'] + df['ReceivingYds'] + df['ReceivingTD'] + df['RushingTD'])\n",
    "rb_df.head(10)"
   ]
  },
  {
   "cell_type": "code",
   "execution_count": null,
   "id": "7d765804",
   "metadata": {},
   "outputs": [],
   "source": [
    "# Cleaned RB df dropping na and nan values\n",
    "rbc_df = rb_df.dropna(thresh=2, axis=1)\n",
    "rbc_df.head(10)"
   ]
  },
  {
   "cell_type": "code",
   "execution_count": null,
   "id": "e887cbcd",
   "metadata": {},
   "outputs": [],
   "source": [
    "# Sorted by Average Draft Position\n",
    "rbc_df.sort_values(by='FantasyPoints', ascending=False).head(25)"
   ]
  },
  {
   "cell_type": "code",
   "execution_count": null,
   "id": "f1d1f2ff",
   "metadata": {},
   "outputs": [],
   "source": [
    "# Sorted by Fantasy Production\n",
    "rbc_df['Production'] = ((df['RushingTD'] + df['ReceivingTD'] + df['RushingYds'] + df['ReceivingYds']) / rb_df['Usage'])\n",
    "rbc_df.head(10)"
   ]
  },
  {
   "cell_type": "code",
   "execution_count": null,
   "id": "bcd56ff4",
   "metadata": {},
   "outputs": [],
   "source": [
    "# Plotting the data\n",
    "from matplotlib import pyplot as plt\n",
    "\n",
    "plt.style.use('ggplot')\n",
    "\n",
    "rbc_df.plot(x='Usage', y='Production', kind='scatter')"
   ]
  },
  {
   "cell_type": "code",
   "execution_count": null,
   "id": "80bede01",
   "metadata": {},
   "outputs": [],
   "source": [
    "rbc_df.to_csv('data/RB_all')"
   ]
  },
  {
   "cell_type": "markdown",
   "id": "43f7e624",
   "metadata": {},
   "source": [
    "# 2019, 2020, 2021 NFL WR Data "
   ]
  },
  {
   "cell_type": "code",
   "execution_count": null,
   "id": "30b77a62",
   "metadata": {
    "scrolled": true
   },
   "outputs": [],
   "source": [
    "# Wide Receiver Featured Columns with Usage Ranking and Total Yards From Scrimmage\n",
    "wr_df = main_df.loc[df['Pos'] == 'WR', ['Player', 'Team', 'Pos','Tgt', 'Rec','RushingAtt', 'RushingYds', 'RushingTD', 'ReceivingYds', 'ReceivingTD','FantasyPoints', 'Games',]]\n",
    "wr_df['Usage'] = ((df['Tgt'] + df['RushingAtt']) / main_df['Games'])\n",
    "wr_df['Touchdowns'] = df['RushingTD'] + df['ReceivingTD']\n",
    "wr_df['TotYdsScrm']= df['ReceivingYds']+ df['RushingYds']\n",
    "wr_df['FPTS/G']= df['FantasyPoints'] / main_df['Games']\n",
    "wr_df['.5_PPR Points']= ((df['Rec']/ 2) + df['RushingYds'] + df['ReceivingYds'] + df['ReceivingTD'] + df['RushingTD'])\n",
    "wr_df.head(10)"
   ]
  },
  {
   "cell_type": "code",
   "execution_count": null,
   "id": "e101e705",
   "metadata": {},
   "outputs": [],
   "source": [
    "wr_df = main_df.loc[df['Player'] == 'Andre Roberts', ['Player', 'Team', 'Pos','Tgt', 'Rec','RushingAtt', 'RushingYds', 'RushingTD', 'ReceivingYds', 'ReceivingTD','FantasyPoints', 'Games',]]"
   ]
  },
  {
   "cell_type": "code",
   "execution_count": null,
   "id": "804e1622",
   "metadata": {},
   "outputs": [],
   "source": [
    "# Cleaned WR df dropping na and nan values\n",
    "wrc_df = wr_df.dropna(thresh=2, axis=1)\n",
    "wrc_df.head(10)"
   ]
  },
  {
   "cell_type": "code",
   "execution_count": null,
   "id": "4a0e57f5",
   "metadata": {
    "scrolled": true
   },
   "outputs": [],
   "source": [
    "# Sorted by Average Draft Position\n",
    "wrc_df.sort_values(by='FantasyPoints', ascending=False).head(10)"
   ]
  },
  {
   "cell_type": "code",
   "execution_count": null,
   "id": "50bc5621",
   "metadata": {},
   "outputs": [],
   "source": [
    "# Sorted by Fantasy Production\n",
    "wrc_df['Production'] = ((df['RushingTD'] + df['ReceivingTD'] + df['RushingYds'] + df['ReceivingYds']) / wr_df['Usage'])\n",
    "wrc_df.head(10)"
   ]
  },
  {
   "cell_type": "code",
   "execution_count": null,
   "id": "96621974",
   "metadata": {},
   "outputs": [],
   "source": []
  },
  {
   "cell_type": "code",
   "execution_count": null,
   "id": "889a13bb",
   "metadata": {},
   "outputs": [],
   "source": [
    "# Plotting the data\n",
    "from matplotlib import pyplot as plt\n",
    "\n",
    "plt.style.use('ggplot')\n",
    "\n",
    "wrc_df.plot(x='Usage', y='Production', kind='scatter')"
   ]
  },
  {
   "cell_type": "code",
   "execution_count": null,
   "id": "faa02acf",
   "metadata": {},
   "outputs": [],
   "source": [
    "wrc_df.to_csv('data/WR_all')"
   ]
  },
  {
   "cell_type": "markdown",
   "id": "b044314f",
   "metadata": {},
   "source": [
    "# 2019, 2020, 2021 NFL Tight End Data"
   ]
  },
  {
   "cell_type": "code",
   "execution_count": null,
   "id": "a0f1057b",
   "metadata": {},
   "outputs": [],
   "source": [
    "# Wide Receiver Featured Columns with Usage Ranking and Total Yards From Scrimmage\n",
    "te_df = main_df.loc[df['Pos'] == 'TE', ['Player', 'Team', 'Pos','Tgt', 'Rec','RushingAtt', 'RushingYds', 'RushingTD', 'ReceivingYds', 'ReceivingTD','FantasyPoints', 'Games',]]\n",
    "te_df['Usage'] = ((df['Tgt'] + df['RushingAtt']) / main_df['Games'])\n",
    "te_df['Touchdowns'] = df['RushingTD'] + df['ReceivingTD']\n",
    "te_df['TotYdsScrm']= df['ReceivingYds']+ df['RushingYds']\n",
    "te_df['FPTS/G']= df['FantasyPoints'] / main_df['Games']\n",
    "te_df['.5_PPR Points']= ((df['Rec']/ 2) + df['RushingYds'] + df['ReceivingYds'] + df['ReceivingTD'] + df['RushingTD'])\n",
    "te_df.head(10)"
   ]
  },
  {
   "cell_type": "code",
   "execution_count": null,
   "id": "25499902",
   "metadata": {},
   "outputs": [],
   "source": [
    "# Cleaned TE df dropping na and nan values\n",
    "tec_df = te_df.dropna(thresh=2, axis=1)\n",
    "tec_df.head(10)"
   ]
  },
  {
   "cell_type": "code",
   "execution_count": null,
   "id": "5ffdf8ea",
   "metadata": {},
   "outputs": [],
   "source": [
    "# Sorted by Fantasy Production\n",
    "tec_df['Production'] = ((df['RushingTD'] + df['ReceivingTD'] + df['RushingYds'] + df['ReceivingYds']) / te_df['Usage'])\n",
    "tec_df.head(10)"
   ]
  },
  {
   "cell_type": "code",
   "execution_count": null,
   "id": "2aefa373",
   "metadata": {},
   "outputs": [],
   "source": [
    "# Sorted by Average Draft Position\n",
    "tec_df.sort_values(by='FantasyPoints', ascending=False).head(10)"
   ]
  },
  {
   "cell_type": "code",
   "execution_count": null,
   "id": "7f339445",
   "metadata": {},
   "outputs": [],
   "source": [
    "# Plotting the data\n",
    "from matplotlib import pyplot as plt\n",
    "\n",
    "plt.style.use('ggplot')\n",
    "\n",
    "tec_df.plot(x='Usage', y='Production', kind='scatter')"
   ]
  },
  {
   "cell_type": "code",
   "execution_count": null,
   "id": "c5f9e38f",
   "metadata": {},
   "outputs": [],
   "source": [
    "tec_df.to_csv('data/TE_all')"
   ]
  },
  {
   "cell_type": "code",
   "execution_count": null,
   "id": "c28ccc87",
   "metadata": {},
   "outputs": [],
   "source": [
    "# merging two csv files\n",
    "master_df = pd.concat(\n",
    "    map(pd.read_csv, ['data/WR_all', 'data/RB_all', 'data/TE_all']), ignore_index=True)"
   ]
  },
  {
   "cell_type": "code",
   "execution_count": null,
   "id": "1bf0340c",
   "metadata": {},
   "outputs": [],
   "source": [
    "master_df.head(100)"
   ]
  },
  {
   "cell_type": "code",
   "execution_count": null,
   "id": "dc14050c",
   "metadata": {},
   "outputs": [],
   "source": [
    "# Shape is just an attribute that tells us the shape of our DataFrame in the format (rows, columns)\n",
    "print(df.shape) \n",
    "print('We have', df.shape[0], 'players we can analyze for all seasons')\n",
    "print('We have', df.shape[1], 'columns of data we can analyze for all seasons')"
   ]
  },
  {
   "cell_type": "code",
   "execution_count": null,
   "id": "464f7955",
   "metadata": {},
   "outputs": [],
   "source": [
    "master_df.to_csv('data/Skill_Model.csv')"
   ]
  },
  {
   "cell_type": "code",
   "execution_count": null,
   "id": "305dc490",
   "metadata": {},
   "outputs": [],
   "source": []
  }
 ],
 "metadata": {
  "kernelspec": {
   "display_name": "Python 3 (ipykernel)",
   "language": "python",
   "name": "python3"
  },
  "language_info": {
   "codemirror_mode": {
    "name": "ipython",
    "version": 3
   },
   "file_extension": ".py",
   "mimetype": "text/x-python",
   "name": "python",
   "nbconvert_exporter": "python",
   "pygments_lexer": "ipython3",
   "version": "3.9.7"
  }
 },
 "nbformat": 4,
 "nbformat_minor": 5
}
