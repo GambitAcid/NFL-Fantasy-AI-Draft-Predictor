{
 "cells": [
  {
   "cell_type": "code",
   "execution_count": null,
   "id": "a2e06084",
   "metadata": {},
   "outputs": [],
   "source": [
    "def rookie_fix(r):\n",
    "    # Ad Columns required for ouput \n",
    "    r['2019 FantasyPoints'] = 0\n",
    "    r['2020 FantasyPoints'] = 0\n",
    "    r['Average Total Production'] = 0\n",
    "    r['Production21'] = 0\n",
    "    \n",
    "    # Rename column to match non-rookie data \n",
    "    r = r.rename(columns={'2021 Fantasy Points':'2021 FantasyPoints'})\n",
    "    \n",
    "    # Preserve label information for Output file \n",
    "    ror = r[['Player',\n",
    "             '2021 Tm',\n",
    "             'Pos',\n",
    "             '2021 FantasyPoints',\n",
    "             '2021 Rec',\n",
    "             '2021 RushingYds',\n",
    "             '2021 ReceivingTD',\n",
    "             'AVG'\n",
    "           ]].copy()\n",
    "    \n",
    "    # Invert ADP\n",
    "    ror['AvgInvert'] = (ror['AVG'].max() + 1) - adp['AVG']\n",
    "    # Give Production Scores and Most recent Fantasy Point equal Weight\n",
    "    ror['ProdWeighted'] = ror['2021 FantasyPoints']\n",
    "    # Factor in \"human factor\" of current ADP\n",
    "    ror['ProdWeightedSRA'] = (ror['ProdWeighted'] + adp['AvgInvert'])/2\n",
    "    # Correct any Nulls created by source data errors \n",
    "    ror[\"ProdWeightedSRA\"] = ror[\"ProdWeightedSRA\"].fillna(114)\n",
    "    r=ror"
   ]
  },
  {
   "cell_type": "code",
   "execution_count": null,
   "id": "e3475e87",
   "metadata": {},
   "outputs": [],
   "source": [
    "def rookie_fix_qb(rqb):\n",
    "    # Ad Columns required for ouput \n",
    "    rqb['2019 FantasyPoints'] = 0\n",
    "    rqb['2020 FantasyPoints'] = 0\n",
    "    rqb['Average Total Production'] = 0\n",
    "    rqb['Production21'] = 0\n",
    "    \n",
    "    # Rename column to match non-rookie data \n",
    "    rqb = rqb.rename(columns={'2021 Fantasy Points':'2021 FantasyPoints'})\n",
    "    \n",
    "    # Preserve label information for Output file \n",
    "    ror = rqb[['Player',\n",
    "               '2021 Tm',\n",
    "               'Pos',\n",
    "               '2021 FantasyPoints',\n",
    "               '2021 Rec',\n",
    "               '2021 RushingYds',\n",
    "               '2021 ReceivingTD',\n",
    "               'AVG'\n",
    "            ]].copy()\n",
    "    \n",
    "    # Invert ADP\n",
    "    ror['AvgInvert'] = (ror['AVG'].max() + 1) - adp['AVG']\n",
    "    # Give Production Scores and Most recent Fantasy Point equal Weight\n",
    "    ror['ProdWeighted'] = ror['2021 FantasyPoints']\n",
    "    # Factor in \"human factor\" of current ADP\n",
    "    ror['ProdWeightedSRA'] = (ror['ProdWeighted'] + adp['AvgInvert'])/2\n",
    "    # Correct any Nulls created by source data errors \n",
    "    ror[\"ProdWeightedSRA\"] = ror[\"ProdWeightedSRA\"].fillna(114)\n",
    "    rqb=ror"
   ]
  }
 ],
 "metadata": {
  "kernelspec": {
   "display_name": "Python 3 (ipykernel)",
   "language": "python",
   "name": "python3"
  },
  "language_info": {
   "codemirror_mode": {
    "name": "ipython",
    "version": 3
   },
   "file_extension": ".py",
   "mimetype": "text/x-python",
   "name": "python",
   "nbconvert_exporter": "python",
   "pygments_lexer": "ipython3",
   "version": "3.9.7"
  }
 },
 "nbformat": 4,
 "nbformat_minor": 5
}
