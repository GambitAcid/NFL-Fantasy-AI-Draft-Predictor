{
 "cells": [
  {
   "cell_type": "markdown",
   "id": "cef5a6cb",
   "metadata": {},
   "source": [
    "##  <span style='color:green '>NFL Fantasy Football Draft Position Predictor</span>\n",
    "<span style='color:green '>This script runs the models from NFL_Fantasy_model_Tuner_woQB and NFL_Fantasy_model_Tuner_QB  \n",
    "    This notebook exists for debugging purposes only see NFL_Fantasy_Predictor.py for deployment. This notebook became NFL_Fantasy_Predictor.py.  \n",
    "    laf 08.24.2022\n",
    "</span>"
   ]
  },
  {
   "cell_type": "code",
   "execution_count": 43,
   "id": "9b30c5d1",
   "metadata": {},
   "outputs": [],
   "source": [
    "import pandas as pd\n",
    "import numpy as np\n",
    "from sklearn.decomposition import PCA\n",
    "from sklearn.preprocessing import StandardScaler\n",
    "from sklearn.preprocessing import MinMaxScaler\n",
    "import joblib\n",
    "import sys"
   ]
  },
  {
   "cell_type": "markdown",
   "id": "07bd17a7",
   "metadata": {},
   "source": [
    "###  <span style='color:green '> Load NFL Fantasy Prediction Model</span>"
   ]
  },
  {
   "cell_type": "code",
   "execution_count": 44,
   "id": "e140148b",
   "metadata": {},
   "outputs": [],
   "source": [
    "draft = joblib.load(\"Resources/draft_position_no_QB.joblib\")\n",
    "qbdraft = joblib.load(\"Resources/draft_position_qb.joblib\")"
   ]
  },
  {
   "cell_type": "markdown",
   "id": "fc29d190",
   "metadata": {},
   "source": [
    "###  <span style='color:green '>Load Data for Predictive Models</span>\n",
    "####  <span style='color:green '>Skill Players Not Including Quarterbacks </span>"
   ]
  },
  {
   "cell_type": "code",
   "execution_count": 45,
   "id": "cf11b547",
   "metadata": {},
   "outputs": [],
   "source": [
    "# This file is the output from NFL Data Cleaned.py \n",
    "adp = pd.read_csv('Resources/ADPxFinal.csv') \n",
    "\n",
    "# Drop players ineligible to be drafted \n",
    "adp.dropna(subset=['AVG'], inplace=True)\n",
    "\n",
    "# Preserve label information for Output file \n",
    "adp_scope = adp[['Player',\n",
    "                 '2019 FantasyPoints',\n",
    "                 '2020 FantasyPoints',\n",
    "                 '2021 FantasyPoints',\n",
    "                 'Production21',\n",
    "                 'Average Total Production',\n",
    "                 '2021 Tm',\n",
    "                 'Pos',\n",
    "                 'AVG'\n",
    "                ]].copy()"
   ]
  },
  {
   "cell_type": "markdown",
   "id": "a7e0efc5",
   "metadata": {},
   "source": [
    "####  <span style='color:green '>Quarterbacks </span>"
   ]
  },
  {
   "cell_type": "code",
   "execution_count": 55,
   "id": "77e09662",
   "metadata": {},
   "outputs": [],
   "source": [
    "# This file is the output from NFL Data Cleaned.py \n",
    "qb = pd.read_csv('Resources/QBxADPxFinal.csv') \n",
    "\n",
    "# Drop players ineligible to be drafted \n",
    "qb.dropna(subset=['AVG'], inplace=True)\n",
    "\n",
    "# Preserve label information for Output file \n",
    "qb_scope = qb[['Player',\n",
    "               '2019 FantasyPoints',\n",
    "               '2020 FantasyPoints',\n",
    "               '2021 FantasyPoints',\n",
    "               'Production21',\n",
    "               'Average Total Production',\n",
    "               '2021 Tm',\n",
    "               'Pos',\n",
    "               'AVG'\n",
    "                ]].copy()"
   ]
  },
  {
   "cell_type": "markdown",
   "id": "22a28d2f",
   "metadata": {},
   "source": [
    "###  <span style='color:green '>Get Data Ready </span>\n",
    "\n",
    " <span style='color:green '>* Drop players ineligible to be drafted    \n",
    "    * Look for new invalid data   \n",
    "    * Remove all rows that contain values Infinity and -Infinity \n",
    "    * Remove unnamed column and player name  \n",
    "    * Preserve label information for Output file  \n",
    "    * Scale our new data </span>"
   ]
  },
  {
   "cell_type": "code",
   "execution_count": 67,
   "id": "24a8afd3",
   "metadata": {},
   "outputs": [],
   "source": [
    "# Drop unnamed column, Player, Pos and 2021 Team\n",
    "col = [0,1,2,3]\n",
    "adp.drop(adp.columns[col],axis=1,inplace=True)\n",
    "qb.drop(qb.columns[col],axis=1,inplace=True)"
   ]
  },
  {
   "cell_type": "code",
   "execution_count": 48,
   "id": "254e0fab",
   "metadata": {},
   "outputs": [],
   "source": [
    "# All other skill \n",
    "# Verify that all numeric data is numeric \n",
    "invalidNumbers = adp[~adp.applymap(np.isreal).all(1)]\n",
    "if len(invalidNumbers) > 0:\n",
    "    sys.exit(f'There are {len(invalidNumbers)} rows with invalid numeric data')\n",
    "    \n",
    "# Check for unexpected nulls \n",
    "count_nan = adp.isna().sum().sum()\n",
    "if count_nan > 0:\n",
    "    sys.exit(f'Invalid data Encountered: {count_nan} fields have null values')"
   ]
  },
  {
   "cell_type": "code",
   "execution_count": 49,
   "id": "97e6146d",
   "metadata": {},
   "outputs": [],
   "source": [
    "# QB \n",
    "# Verify that all numeric data is numeric \n",
    "invalidNumbers = qb[~qb.applymap(np.isreal).all(1)]\n",
    "if len(invalidNumbers) > 0:\n",
    "    sys.exit(f'There are {len(invalidNumbers)} rows with invalid numeric data')\n",
    "    \n",
    "# Check for unexpected nulls \n",
    "count_nan = qb.isna().sum().sum()\n",
    "if count_nan > 0:\n",
    "    sys.exit(f'Invalid data Encountered: {count_nan} fields have null values')"
   ]
  },
  {
   "cell_type": "code",
   "execution_count": 50,
   "id": "09f61e9e",
   "metadata": {},
   "outputs": [],
   "source": [
    "# Drop rows that contain infinity values in our Results Dataset \n",
    "adp_scope.replace([np.inf, -np.inf], 'drop', inplace=True)\n",
    "adp_scope = adp_scope[~adp_scope.eq('drop').any(1)]\n",
    "\n",
    "qb_scope.replace([np.inf, -np.inf], 'drop', inplace=True)\n",
    "qb_scope = qb_scope[~qb_scope.eq('drop').any(1)]\n",
    "\n",
    "# Drop rows that contain infinity values in our Prediction Dataset \n",
    "adp.replace([np.inf, -np.inf], np.nan, inplace=True)\n",
    "adp.dropna(inplace=True)\n",
    "\n",
    "adp.replace([np.inf, -np.inf], np.nan, inplace=True)\n",
    "adp.dropna(inplace=True)"
   ]
  },
  {
   "cell_type": "code",
   "execution_count": 51,
   "id": "909ff304",
   "metadata": {},
   "outputs": [],
   "source": [
    "# Standarize data with Scaler(s) required by models\n",
    "qbs = StandardScaler().fit_transform(qb)\n",
    "apds = MinMaxScaler().fit_transform(adp)"
   ]
  },
  {
   "cell_type": "markdown",
   "id": "146e95f2",
   "metadata": {},
   "source": [
    "###  <span style='color:green '> Apply PCA </span> "
   ]
  },
  {
   "cell_type": "code",
   "execution_count": 58,
   "id": "7461d445",
   "metadata": {},
   "outputs": [],
   "source": [
    "# Applying PCA to reduce dimensions to the number required by each model \n",
    "pca = PCA(n_components= 23)\n",
    "pcaq = PCA(n_components= 13)\n",
    "\n",
    "# Fit our new Principal Component Analysis reduced Features to our Model\n",
    "pfa = pca.fit_transform(apds)\n",
    "pfb = pcaq.fit_transform(qbs)\n",
    "\n",
    "# Transform PCA data to a DataFrame\n",
    "pf = pd.DataFrame(data=pfa)\n",
    "pfqb = pd.DataFrame(data=pfb)"
   ]
  },
  {
   "cell_type": "markdown",
   "id": "295a0aab",
   "metadata": {},
   "source": [
    "###  <span style='color:green '>Predict Draft Positions</span>"
   ]
  },
  {
   "cell_type": "code",
   "execution_count": 59,
   "id": "c24af76b",
   "metadata": {},
   "outputs": [],
   "source": [
    "draft_position = draft.predict(pf)\n",
    "qb_draft_position = qbdraft.predict(pfqb)"
   ]
  },
  {
   "cell_type": "markdown",
   "id": "825aee37",
   "metadata": {},
   "source": [
    "###  <span style='color:green '>Add predicted draft positions to our results file </span>"
   ]
  },
  {
   "cell_type": "code",
   "execution_count": 66,
   "id": "d50182ef",
   "metadata": {},
   "outputs": [],
   "source": [
    "# Add column to results df\n",
    "frames = [adp_scope, qb_scope]\n",
    "adp_scope['Prediction'] = draft_position\n",
    "qb_scope['Prediction'] = qb_draft_position\n",
    "\n",
    "# Combine DataFrames into 1 complete dataset.\n",
    "final = pd.concat(frames)"
   ]
  },
  {
   "cell_type": "code",
   "execution_count": 65,
   "id": "482d2d71",
   "metadata": {},
   "outputs": [],
   "source": [
    "# Write file to csv \n",
    "final.to_csv('Resources/Draft.csv')"
   ]
  }
 ],
 "metadata": {
  "kernelspec": {
   "display_name": "Python 3 (ipykernel)",
   "language": "python",
   "name": "python3"
  },
  "language_info": {
   "codemirror_mode": {
    "name": "ipython",
    "version": 3
   },
   "file_extension": ".py",
   "mimetype": "text/x-python",
   "name": "python",
   "nbconvert_exporter": "python",
   "pygments_lexer": "ipython3",
   "version": "3.9.7"
  }
 },
 "nbformat": 4,
 "nbformat_minor": 5
}
